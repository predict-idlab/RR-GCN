{
 "cells": [
  {
   "cell_type": "code",
   "execution_count": 1,
   "metadata": {},
   "outputs": [],
   "source": [
    "from rrgcn import RRGCNEmbedder\n",
    "from torch_geometric.datasets import Entities\n",
    "import torch\n",
    "from catboost import CatBoostClassifier\n",
    "from sklearn.model_selection import train_test_split\n",
    "from sklearn.metrics import classification_report"
   ]
  },
  {
   "cell_type": "code",
   "execution_count": 2,
   "metadata": {},
   "outputs": [],
   "source": [
    "device = \"cuda\" if torch.cuda.is_available() else \"cpu\"\n",
    "dataset = Entities('./', 'aifb')\n",
    "data = dataset[0].to(device)"
   ]
  },
  {
   "cell_type": "code",
   "execution_count": 3,
   "metadata": {},
   "outputs": [],
   "source": [
    "embedder = RRGCNEmbedder(num_nodes=data.num_nodes, num_relations=dataset.num_relations, num_layers=1, emb_size=512, device=device)"
   ]
  },
  {
   "cell_type": "code",
   "execution_count": 4,
   "metadata": {},
   "outputs": [
    {
     "name": "stderr",
     "output_type": "stream",
     "text": [
      "100%|██████████| 1/1 [00:00<00:00,  5.65it/s]\n"
     ]
    }
   ],
   "source": [
    "embs = embedder.embeddings(data.edge_index, data.edge_type, idx=torch.hstack((data.train_idx, data.test_idx)))"
   ]
  },
  {
   "cell_type": "code",
   "execution_count": 5,
   "metadata": {},
   "outputs": [],
   "source": [
    "train_embs, val_embs, y_train, y_val = train_test_split(embs[:len(data.train_idx)], data.train_y, stratify=data.train_y.cpu().numpy(), test_size=0.1, random_state=42)\n",
    "test_embs = embs[len(data.train_idx):]"
   ]
  },
  {
   "cell_type": "code",
   "execution_count": 6,
   "metadata": {},
   "outputs": [
    {
     "name": "stderr",
     "output_type": "stream",
     "text": [
      "Warning: less than 75% gpu memory available for training. Free: 8148.4375 Total: 11178.5\n"
     ]
    },
    {
     "name": "stdout",
     "output_type": "stream",
     "text": [
      "Learning rate set to 0.085304\n",
      "0:\tlearn: 1.2969302\ttest: 1.3342397\tbest: 1.3342397 (0)\ttotal: 18.6ms\tremaining: 18.6s\n",
      "1:\tlearn: 1.2000661\ttest: 1.2338934\tbest: 1.2338934 (1)\ttotal: 30.4ms\tremaining: 15.2s\n",
      "2:\tlearn: 1.1425615\ttest: 1.2085750\tbest: 1.2085750 (2)\ttotal: 43.1ms\tremaining: 14.3s\n",
      "3:\tlearn: 1.0679692\ttest: 1.1699182\tbest: 1.1699182 (3)\ttotal: 56.1ms\tremaining: 14s\n",
      "4:\tlearn: 0.9919849\ttest: 1.1372393\tbest: 1.1372393 (4)\ttotal: 67.9ms\tremaining: 13.5s\n",
      "5:\tlearn: 0.9336028\ttest: 1.1186410\tbest: 1.1186410 (5)\ttotal: 80.1ms\tremaining: 13.3s\n",
      "6:\tlearn: 0.8787697\ttest: 1.1008139\tbest: 1.1008139 (6)\ttotal: 92.1ms\tremaining: 13.1s\n",
      "7:\tlearn: 0.8352548\ttest: 1.0676963\tbest: 1.0676963 (7)\ttotal: 105ms\tremaining: 13s\n",
      "8:\tlearn: 0.7851750\ttest: 1.0534535\tbest: 1.0534535 (8)\ttotal: 116ms\tremaining: 12.8s\n",
      "9:\tlearn: 0.7387055\ttest: 1.0352245\tbest: 1.0352245 (9)\ttotal: 128ms\tremaining: 12.7s\n",
      "10:\tlearn: 0.6983655\ttest: 1.0326858\tbest: 1.0326858 (10)\ttotal: 140ms\tremaining: 12.6s\n",
      "11:\tlearn: 0.6676781\ttest: 1.0226218\tbest: 1.0226218 (11)\ttotal: 152ms\tremaining: 12.5s\n",
      "12:\tlearn: 0.6387031\ttest: 1.0048231\tbest: 1.0048231 (12)\ttotal: 164ms\tremaining: 12.4s\n",
      "13:\tlearn: 0.6090801\ttest: 0.9972154\tbest: 0.9972154 (13)\ttotal: 175ms\tremaining: 12.3s\n",
      "14:\tlearn: 0.5804450\ttest: 0.9796035\tbest: 0.9796035 (14)\ttotal: 186ms\tremaining: 12.2s\n",
      "15:\tlearn: 0.5538399\ttest: 0.9539958\tbest: 0.9539958 (15)\ttotal: 198ms\tremaining: 12.2s\n",
      "16:\tlearn: 0.5298799\ttest: 0.9452700\tbest: 0.9452700 (16)\ttotal: 211ms\tremaining: 12.2s\n",
      "17:\tlearn: 0.5060153\ttest: 0.9439810\tbest: 0.9439810 (17)\ttotal: 223ms\tremaining: 12.2s\n",
      "18:\tlearn: 0.4828253\ttest: 0.9321445\tbest: 0.9321445 (18)\ttotal: 234ms\tremaining: 12.1s\n",
      "19:\tlearn: 0.4631690\ttest: 0.9248837\tbest: 0.9248837 (19)\ttotal: 245ms\tremaining: 12s\n",
      "20:\tlearn: 0.4461007\ttest: 0.9085754\tbest: 0.9085754 (20)\ttotal: 257ms\tremaining: 12s\n",
      "21:\tlearn: 0.4282739\ttest: 0.8995105\tbest: 0.8995105 (21)\ttotal: 269ms\tremaining: 11.9s\n",
      "22:\tlearn: 0.4112666\ttest: 0.8891705\tbest: 0.8891705 (22)\ttotal: 280ms\tremaining: 11.9s\n",
      "23:\tlearn: 0.3956945\ttest: 0.8905469\tbest: 0.8891705 (22)\ttotal: 293ms\tremaining: 11.9s\n",
      "24:\tlearn: 0.3806139\ttest: 0.8897392\tbest: 0.8891705 (22)\ttotal: 305ms\tremaining: 11.9s\n",
      "25:\tlearn: 0.3654072\ttest: 0.8674959\tbest: 0.8674959 (25)\ttotal: 315ms\tremaining: 11.8s\n",
      "26:\tlearn: 0.3542032\ttest: 0.8592678\tbest: 0.8592678 (26)\ttotal: 326ms\tremaining: 11.8s\n",
      "27:\tlearn: 0.3423057\ttest: 0.8599029\tbest: 0.8592678 (26)\ttotal: 339ms\tremaining: 11.8s\n",
      "28:\tlearn: 0.3287314\ttest: 0.8449172\tbest: 0.8449172 (28)\ttotal: 351ms\tremaining: 11.7s\n",
      "29:\tlearn: 0.3197383\ttest: 0.8409348\tbest: 0.8409348 (29)\ttotal: 363ms\tremaining: 11.7s\n",
      "30:\tlearn: 0.3091993\ttest: 0.8421083\tbest: 0.8409348 (29)\ttotal: 375ms\tremaining: 11.7s\n",
      "31:\tlearn: 0.3010591\ttest: 0.8331194\tbest: 0.8331194 (31)\ttotal: 398ms\tremaining: 12s\n",
      "32:\tlearn: 0.2912889\ttest: 0.8278337\tbest: 0.8278337 (32)\ttotal: 410ms\tremaining: 12s\n",
      "33:\tlearn: 0.2819078\ttest: 0.8159404\tbest: 0.8159404 (33)\ttotal: 421ms\tremaining: 12s\n",
      "34:\tlearn: 0.2734863\ttest: 0.8140416\tbest: 0.8140416 (34)\ttotal: 432ms\tremaining: 11.9s\n",
      "35:\tlearn: 0.2667761\ttest: 0.8068657\tbest: 0.8068657 (35)\ttotal: 444ms\tremaining: 11.9s\n",
      "36:\tlearn: 0.2586108\ttest: 0.8015354\tbest: 0.8015354 (36)\ttotal: 455ms\tremaining: 11.9s\n",
      "37:\tlearn: 0.2510237\ttest: 0.7964939\tbest: 0.7964939 (37)\ttotal: 468ms\tremaining: 11.8s\n",
      "38:\tlearn: 0.2451009\ttest: 0.7902861\tbest: 0.7902861 (38)\ttotal: 480ms\tremaining: 11.8s\n",
      "39:\tlearn: 0.2377240\ttest: 0.7891466\tbest: 0.7891466 (39)\ttotal: 491ms\tremaining: 11.8s\n",
      "40:\tlearn: 0.2319026\ttest: 0.7864085\tbest: 0.7864085 (40)\ttotal: 503ms\tremaining: 11.8s\n",
      "41:\tlearn: 0.2259085\ttest: 0.7806098\tbest: 0.7806098 (41)\ttotal: 514ms\tremaining: 11.7s\n",
      "42:\tlearn: 0.2183722\ttest: 0.7752157\tbest: 0.7752157 (42)\ttotal: 526ms\tremaining: 11.7s\n",
      "43:\tlearn: 0.2127333\ttest: 0.7709283\tbest: 0.7709283 (43)\ttotal: 537ms\tremaining: 11.7s\n",
      "44:\tlearn: 0.2064811\ttest: 0.7643689\tbest: 0.7643689 (44)\ttotal: 549ms\tremaining: 11.7s\n",
      "45:\tlearn: 0.2007379\ttest: 0.7632614\tbest: 0.7632614 (45)\ttotal: 563ms\tremaining: 11.7s\n",
      "46:\tlearn: 0.1964032\ttest: 0.7586438\tbest: 0.7586438 (46)\ttotal: 574ms\tremaining: 11.6s\n",
      "47:\tlearn: 0.1924757\ttest: 0.7551783\tbest: 0.7551783 (47)\ttotal: 587ms\tremaining: 11.6s\n",
      "48:\tlearn: 0.1878259\ttest: 0.7520653\tbest: 0.7520653 (48)\ttotal: 605ms\tremaining: 11.8s\n",
      "49:\tlearn: 0.1823915\ttest: 0.7355861\tbest: 0.7355861 (49)\ttotal: 618ms\tremaining: 11.7s\n",
      "50:\tlearn: 0.1772368\ttest: 0.7282483\tbest: 0.7282483 (50)\ttotal: 631ms\tremaining: 11.7s\n",
      "51:\tlearn: 0.1731347\ttest: 0.7238768\tbest: 0.7238768 (51)\ttotal: 643ms\tremaining: 11.7s\n",
      "52:\tlearn: 0.1698568\ttest: 0.7275939\tbest: 0.7238768 (51)\ttotal: 655ms\tremaining: 11.7s\n",
      "53:\tlearn: 0.1656953\ttest: 0.7246780\tbest: 0.7238768 (51)\ttotal: 665ms\tremaining: 11.7s\n",
      "54:\tlearn: 0.1616868\ttest: 0.7229278\tbest: 0.7229278 (54)\ttotal: 677ms\tremaining: 11.6s\n",
      "55:\tlearn: 0.1575661\ttest: 0.7232937\tbest: 0.7229278 (54)\ttotal: 688ms\tremaining: 11.6s\n",
      "56:\tlearn: 0.1537987\ttest: 0.7175485\tbest: 0.7175485 (56)\ttotal: 701ms\tremaining: 11.6s\n",
      "57:\tlearn: 0.1508563\ttest: 0.7147587\tbest: 0.7147587 (57)\ttotal: 712ms\tremaining: 11.6s\n",
      "58:\tlearn: 0.1480231\ttest: 0.7147624\tbest: 0.7147587 (57)\ttotal: 725ms\tremaining: 11.6s\n",
      "59:\tlearn: 0.1446332\ttest: 0.7157620\tbest: 0.7147587 (57)\ttotal: 737ms\tremaining: 11.5s\n",
      "60:\tlearn: 0.1411125\ttest: 0.7132518\tbest: 0.7132518 (60)\ttotal: 748ms\tremaining: 11.5s\n",
      "61:\tlearn: 0.1371280\ttest: 0.7018625\tbest: 0.7018625 (61)\ttotal: 758ms\tremaining: 11.5s\n",
      "62:\tlearn: 0.1332806\ttest: 0.7027950\tbest: 0.7018625 (61)\ttotal: 769ms\tremaining: 11.4s\n",
      "63:\tlearn: 0.1305091\ttest: 0.6997428\tbest: 0.6997428 (63)\ttotal: 781ms\tremaining: 11.4s\n",
      "64:\tlearn: 0.1276733\ttest: 0.6995313\tbest: 0.6995313 (64)\ttotal: 797ms\tremaining: 11.5s\n",
      "65:\tlearn: 0.1253964\ttest: 0.7003785\tbest: 0.6995313 (64)\ttotal: 809ms\tremaining: 11.4s\n",
      "66:\tlearn: 0.1229006\ttest: 0.7033103\tbest: 0.6995313 (64)\ttotal: 820ms\tremaining: 11.4s\n",
      "67:\tlearn: 0.1198933\ttest: 0.6954169\tbest: 0.6954169 (67)\ttotal: 831ms\tremaining: 11.4s\n",
      "68:\tlearn: 0.1181226\ttest: 0.6948333\tbest: 0.6948333 (68)\ttotal: 843ms\tremaining: 11.4s\n",
      "69:\tlearn: 0.1162267\ttest: 0.6928064\tbest: 0.6928064 (69)\ttotal: 856ms\tremaining: 11.4s\n",
      "70:\tlearn: 0.1135775\ttest: 0.6941731\tbest: 0.6928064 (69)\ttotal: 867ms\tremaining: 11.3s\n",
      "71:\tlearn: 0.1117418\ttest: 0.6922998\tbest: 0.6922998 (71)\ttotal: 879ms\tremaining: 11.3s\n",
      "72:\tlearn: 0.1098110\ttest: 0.6922897\tbest: 0.6922897 (72)\ttotal: 893ms\tremaining: 11.3s\n",
      "73:\tlearn: 0.1076019\ttest: 0.6947424\tbest: 0.6922897 (72)\ttotal: 905ms\tremaining: 11.3s\n",
      "74:\tlearn: 0.1053858\ttest: 0.6953484\tbest: 0.6922897 (72)\ttotal: 916ms\tremaining: 11.3s\n",
      "75:\tlearn: 0.1031145\ttest: 0.6966758\tbest: 0.6922897 (72)\ttotal: 928ms\tremaining: 11.3s\n",
      "76:\tlearn: 0.1013737\ttest: 0.6971605\tbest: 0.6922897 (72)\ttotal: 941ms\tremaining: 11.3s\n",
      "77:\tlearn: 0.0994553\ttest: 0.6996361\tbest: 0.6922897 (72)\ttotal: 953ms\tremaining: 11.3s\n",
      "78:\tlearn: 0.0972343\ttest: 0.6993883\tbest: 0.6922897 (72)\ttotal: 964ms\tremaining: 11.2s\n",
      "79:\tlearn: 0.0954113\ttest: 0.7001365\tbest: 0.6922897 (72)\ttotal: 976ms\tremaining: 11.2s\n",
      "80:\tlearn: 0.0937483\ttest: 0.6999181\tbest: 0.6922897 (72)\ttotal: 989ms\tremaining: 11.2s\n",
      "81:\tlearn: 0.0920120\ttest: 0.6958732\tbest: 0.6922897 (72)\ttotal: 1000ms\tremaining: 11.2s\n",
      "82:\tlearn: 0.0905355\ttest: 0.6910559\tbest: 0.6910559 (82)\ttotal: 1.01s\tremaining: 11.2s\n",
      "83:\tlearn: 0.0891841\ttest: 0.6842385\tbest: 0.6842385 (83)\ttotal: 1.02s\tremaining: 11.2s\n",
      "84:\tlearn: 0.0876661\ttest: 0.6820288\tbest: 0.6820288 (84)\ttotal: 1.03s\tremaining: 11.1s\n",
      "85:\tlearn: 0.0859722\ttest: 0.6831362\tbest: 0.6820288 (84)\ttotal: 1.04s\tremaining: 11.1s\n",
      "86:\tlearn: 0.0839209\ttest: 0.6779026\tbest: 0.6779026 (86)\ttotal: 1.05s\tremaining: 11.1s\n",
      "87:\tlearn: 0.0828929\ttest: 0.6767878\tbest: 0.6767878 (87)\ttotal: 1.07s\tremaining: 11.1s\n",
      "88:\tlearn: 0.0816107\ttest: 0.6725800\tbest: 0.6725800 (88)\ttotal: 1.08s\tremaining: 11s\n",
      "89:\tlearn: 0.0803497\ttest: 0.6732755\tbest: 0.6725800 (88)\ttotal: 1.09s\tremaining: 11s\n",
      "90:\tlearn: 0.0784429\ttest: 0.6694829\tbest: 0.6694829 (90)\ttotal: 1.1s\tremaining: 11s\n",
      "91:\tlearn: 0.0774035\ttest: 0.6679351\tbest: 0.6679351 (91)\ttotal: 1.11s\tremaining: 11s\n",
      "92:\tlearn: 0.0759641\ttest: 0.6683749\tbest: 0.6679351 (91)\ttotal: 1.13s\tremaining: 11s\n",
      "93:\tlearn: 0.0752460\ttest: 0.6666641\tbest: 0.6666641 (93)\ttotal: 1.14s\tremaining: 11s\n",
      "94:\tlearn: 0.0740749\ttest: 0.6676286\tbest: 0.6666641 (93)\ttotal: 1.15s\tremaining: 11s\n",
      "95:\tlearn: 0.0729587\ttest: 0.6658311\tbest: 0.6658311 (95)\ttotal: 1.16s\tremaining: 10.9s\n",
      "96:\tlearn: 0.0720114\ttest: 0.6646236\tbest: 0.6646236 (96)\ttotal: 1.17s\tremaining: 10.9s\n",
      "97:\tlearn: 0.0708705\ttest: 0.6596386\tbest: 0.6596386 (97)\ttotal: 1.18s\tremaining: 10.9s\n",
      "98:\tlearn: 0.0700198\ttest: 0.6620411\tbest: 0.6596386 (97)\ttotal: 1.2s\tremaining: 10.9s\n",
      "99:\tlearn: 0.0690603\ttest: 0.6625768\tbest: 0.6596386 (97)\ttotal: 1.21s\tremaining: 10.9s\n",
      "100:\tlearn: 0.0683086\ttest: 0.6578260\tbest: 0.6578260 (100)\ttotal: 1.22s\tremaining: 10.9s\n",
      "101:\tlearn: 0.0672263\ttest: 0.6511244\tbest: 0.6511244 (101)\ttotal: 1.23s\tremaining: 10.9s\n",
      "102:\tlearn: 0.0661865\ttest: 0.6482823\tbest: 0.6482823 (102)\ttotal: 1.25s\tremaining: 10.8s\n",
      "103:\tlearn: 0.0649993\ttest: 0.6500651\tbest: 0.6482823 (102)\ttotal: 1.26s\tremaining: 10.8s\n",
      "104:\tlearn: 0.0640125\ttest: 0.6482533\tbest: 0.6482533 (104)\ttotal: 1.27s\tremaining: 10.8s\n",
      "105:\tlearn: 0.0629482\ttest: 0.6435319\tbest: 0.6435319 (105)\ttotal: 1.28s\tremaining: 10.8s\n",
      "106:\tlearn: 0.0620935\ttest: 0.6439022\tbest: 0.6435319 (105)\ttotal: 1.29s\tremaining: 10.8s\n",
      "107:\tlearn: 0.0613532\ttest: 0.6417888\tbest: 0.6417888 (107)\ttotal: 1.3s\tremaining: 10.7s\n",
      "108:\tlearn: 0.0604760\ttest: 0.6415921\tbest: 0.6415921 (108)\ttotal: 1.31s\tremaining: 10.7s\n",
      "109:\tlearn: 0.0596891\ttest: 0.6402051\tbest: 0.6402051 (109)\ttotal: 1.32s\tremaining: 10.7s\n",
      "110:\tlearn: 0.0588629\ttest: 0.6417191\tbest: 0.6402051 (109)\ttotal: 1.34s\tremaining: 10.7s\n",
      "111:\tlearn: 0.0581992\ttest: 0.6436667\tbest: 0.6402051 (109)\ttotal: 1.35s\tremaining: 10.7s\n",
      "112:\tlearn: 0.0572597\ttest: 0.6370259\tbest: 0.6370259 (112)\ttotal: 1.36s\tremaining: 10.7s\n",
      "113:\tlearn: 0.0566271\ttest: 0.6366783\tbest: 0.6366783 (113)\ttotal: 1.37s\tremaining: 10.6s\n",
      "114:\tlearn: 0.0559796\ttest: 0.6345880\tbest: 0.6345880 (114)\ttotal: 1.38s\tremaining: 10.6s\n",
      "115:\tlearn: 0.0553542\ttest: 0.6339697\tbest: 0.6339697 (115)\ttotal: 1.39s\tremaining: 10.6s\n",
      "116:\tlearn: 0.0547635\ttest: 0.6336229\tbest: 0.6336229 (116)\ttotal: 1.41s\tremaining: 10.6s\n",
      "117:\tlearn: 0.0540305\ttest: 0.6306633\tbest: 0.6306633 (117)\ttotal: 1.42s\tremaining: 10.6s\n",
      "118:\tlearn: 0.0531835\ttest: 0.6313505\tbest: 0.6306633 (117)\ttotal: 1.43s\tremaining: 10.6s\n",
      "119:\tlearn: 0.0525138\ttest: 0.6294055\tbest: 0.6294055 (119)\ttotal: 1.44s\tremaining: 10.6s\n",
      "120:\tlearn: 0.0518278\ttest: 0.6281488\tbest: 0.6281488 (120)\ttotal: 1.45s\tremaining: 10.6s\n",
      "121:\tlearn: 0.0512192\ttest: 0.6285238\tbest: 0.6281488 (120)\ttotal: 1.47s\tremaining: 10.5s\n",
      "122:\tlearn: 0.0506688\ttest: 0.6290905\tbest: 0.6281488 (120)\ttotal: 1.48s\tremaining: 10.5s\n",
      "123:\tlearn: 0.0500306\ttest: 0.6300865\tbest: 0.6281488 (120)\ttotal: 1.49s\tremaining: 10.5s\n",
      "124:\tlearn: 0.0495525\ttest: 0.6302491\tbest: 0.6281488 (120)\ttotal: 1.5s\tremaining: 10.5s\n",
      "125:\tlearn: 0.0490236\ttest: 0.6328756\tbest: 0.6281488 (120)\ttotal: 1.51s\tremaining: 10.5s\n",
      "126:\tlearn: 0.0484700\ttest: 0.6332324\tbest: 0.6281488 (120)\ttotal: 1.52s\tremaining: 10.5s\n",
      "127:\tlearn: 0.0478158\ttest: 0.6336537\tbest: 0.6281488 (120)\ttotal: 1.54s\tremaining: 10.5s\n",
      "128:\tlearn: 0.0472445\ttest: 0.6331554\tbest: 0.6281488 (120)\ttotal: 1.55s\tremaining: 10.5s\n",
      "129:\tlearn: 0.0467508\ttest: 0.6319422\tbest: 0.6281488 (120)\ttotal: 1.56s\tremaining: 10.4s\n",
      "130:\tlearn: 0.0462970\ttest: 0.6311057\tbest: 0.6281488 (120)\ttotal: 1.57s\tremaining: 10.4s\n",
      "bestTest = 0.6281487965\n",
      "bestIteration = 120\n",
      "Shrink model to first 121 iterations.\n"
     ]
    }
   ],
   "source": [
    "task_type = 'GPU' if torch.cuda.is_available() else 'CPU'\n",
    "clf = CatBoostClassifier(iterations=1000, early_stopping_rounds=10, task_type=task_type, random_seed=42, auto_class_weights=\"Balanced\")\n",
    "clf = clf.fit(train_embs.cpu().numpy(), y_train.cpu().numpy(), eval_set=(val_embs.cpu().numpy(), y_val.cpu().numpy()))"
   ]
  },
  {
   "cell_type": "code",
   "execution_count": 7,
   "metadata": {},
   "outputs": [
    {
     "name": "stdout",
     "output_type": "stream",
     "text": [
      "              precision    recall  f1-score   support\n",
      "\n",
      "           0       0.93      0.88      0.90        16\n",
      "           1       0.92      1.00      0.96        11\n",
      "           2       1.00      1.00      1.00         3\n",
      "           3       0.83      0.83      0.83         6\n",
      "\n",
      "    accuracy                           0.92        36\n",
      "   macro avg       0.92      0.93      0.92        36\n",
      "weighted avg       0.92      0.92      0.92        36\n",
      "\n"
     ]
    }
   ],
   "source": [
    "print(classification_report(clf.predict(test_embs.cpu().numpy()), data.test_y.cpu().numpy()))"
   ]
  }
 ],
 "metadata": {
  "interpreter": {
   "hash": "d4d1e4263499bec80672ea0156c357c1ee493ec2b1c70f0acce89fc37c4a6abe"
  },
  "kernelspec": {
   "display_name": "Python 3.9.7 ('base')",
   "language": "python",
   "name": "python3"
  },
  "language_info": {
   "codemirror_mode": {
    "name": "ipython",
    "version": 3
   },
   "file_extension": ".py",
   "mimetype": "text/x-python",
   "name": "python",
   "nbconvert_exporter": "python",
   "pygments_lexer": "ipython3",
   "version": "3.9.7"
  },
  "orig_nbformat": 4
 },
 "nbformat": 4,
 "nbformat_minor": 2
}
