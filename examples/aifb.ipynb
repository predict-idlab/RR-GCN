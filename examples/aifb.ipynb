{
 "cells": [
  {
   "cell_type": "code",
   "execution_count": 1,
   "metadata": {},
   "outputs": [
    {
     "ename": "ModuleNotFoundError",
     "evalue": "No module named 'rrgcn'",
     "output_type": "error",
     "traceback": [
      "\u001b[0;31m---------------------------------------------------------------------------\u001b[0m",
      "\u001b[0;31mModuleNotFoundError\u001b[0m                       Traceback (most recent call last)",
      "\u001b[0;32m<ipython-input-1-1d523391a845>\u001b[0m in \u001b[0;36m<module>\u001b[0;34m\u001b[0m\n\u001b[0;32m----> 1\u001b[0;31m \u001b[0;32mfrom\u001b[0m \u001b[0mrrgcn\u001b[0m \u001b[0;32mimport\u001b[0m \u001b[0mRRGCNEmbedder\u001b[0m\u001b[0;34m\u001b[0m\u001b[0;34m\u001b[0m\u001b[0m\n\u001b[0m\u001b[1;32m      2\u001b[0m \u001b[0;32mfrom\u001b[0m \u001b[0mtorch_geometric\u001b[0m\u001b[0;34m.\u001b[0m\u001b[0mdatasets\u001b[0m \u001b[0;32mimport\u001b[0m \u001b[0mEntities\u001b[0m\u001b[0;34m\u001b[0m\u001b[0;34m\u001b[0m\u001b[0m\n\u001b[1;32m      3\u001b[0m \u001b[0;32mimport\u001b[0m \u001b[0mtorch\u001b[0m\u001b[0;34m\u001b[0m\u001b[0;34m\u001b[0m\u001b[0m\n\u001b[1;32m      4\u001b[0m \u001b[0;32mfrom\u001b[0m \u001b[0mcatboost\u001b[0m \u001b[0;32mimport\u001b[0m \u001b[0mCatBoostClassifier\u001b[0m\u001b[0;34m\u001b[0m\u001b[0;34m\u001b[0m\u001b[0m\n\u001b[1;32m      5\u001b[0m \u001b[0;32mfrom\u001b[0m \u001b[0msklearn\u001b[0m\u001b[0;34m.\u001b[0m\u001b[0mmodel_selection\u001b[0m \u001b[0;32mimport\u001b[0m \u001b[0mtrain_test_split\u001b[0m\u001b[0;34m\u001b[0m\u001b[0;34m\u001b[0m\u001b[0m\n",
      "\u001b[0;31mModuleNotFoundError\u001b[0m: No module named 'rrgcn'"
     ]
    }
   ],
   "source": [
    "from rrgcn import RRGCNEmbedder\n",
    "from torch_geometric.datasets import Entities\n",
    "import torch\n",
    "from catboost import CatBoostClassifier\n",
    "from sklearn.model_selection import train_test_split\n",
    "from sklearn.metrics import classification_report"
   ]
  },
  {
   "cell_type": "code",
   "execution_count": 2,
   "metadata": {},
   "outputs": [],
   "source": [
    "device = \"cuda\" if torch.cuda.is_available() else \"cpu\"\n",
    "dataset = Entities('./', 'aifb')\n",
    "data = dataset[0].to(device)"
   ]
  },
  {
   "cell_type": "code",
   "execution_count": 40,
   "metadata": {},
   "outputs": [],
   "source": [
    "embedder = RRGCNEmbedder(num_nodes=data.num_nodes, num_relations=dataset.num_relations, num_layers=2, emb_size=2048, device=device)"
   ]
  },
  {
   "cell_type": "code",
   "execution_count": 41,
   "metadata": {},
   "outputs": [
    {
     "name": "stderr",
     "output_type": "stream",
     "text": [
      "100%|██████████| 1/1 [00:01<00:00,  1.82s/it]\n"
     ]
    }
   ],
   "source": [
    "embs = embedder.embeddings(data.edge_index, data.edge_type, idx=torch.hstack((data.train_idx, data.test_idx)))"
   ]
  },
  {
   "cell_type": "code",
   "execution_count": 42,
   "metadata": {},
   "outputs": [],
   "source": [
    "train_embs, val_embs, y_train, y_val = train_test_split(embs[:len(data.train_idx)], data.train_y, test_size=0.1, random_state=42)\n",
    "test_embs = embs[len(data.train_idx):]"
   ]
  },
  {
   "cell_type": "code",
   "execution_count": 43,
   "metadata": {},
   "outputs": [
    {
     "name": "stdout",
     "output_type": "stream",
     "text": [
      "Learning rate set to 0.085304\n",
      "0:\tlearn: 1.3108780\ttest: 1.3386966\tbest: 1.3386966 (0)\ttotal: 36.9ms\tremaining: 36.9s\n",
      "1:\tlearn: 1.2528786\ttest: 1.2955216\tbest: 1.2955216 (1)\ttotal: 58.8ms\tremaining: 29.4s\n",
      "2:\tlearn: 1.2042893\ttest: 1.2689032\tbest: 1.2689032 (2)\ttotal: 82.6ms\tremaining: 27.5s\n",
      "3:\tlearn: 1.1538607\ttest: 1.2444230\tbest: 1.2444230 (3)\ttotal: 107ms\tremaining: 26.6s\n",
      "4:\tlearn: 1.0782380\ttest: 1.1890538\tbest: 1.1890538 (4)\ttotal: 129ms\tremaining: 25.8s\n",
      "5:\tlearn: 1.0342293\ttest: 1.1670562\tbest: 1.1670562 (5)\ttotal: 152ms\tremaining: 25.3s\n",
      "6:\tlearn: 0.9920668\ttest: 1.1366792\tbest: 1.1366792 (6)\ttotal: 176ms\tremaining: 24.9s\n",
      "7:\tlearn: 0.9386813\ttest: 1.1121528\tbest: 1.1121528 (7)\ttotal: 198ms\tremaining: 24.5s\n",
      "8:\tlearn: 0.9018029\ttest: 1.0776206\tbest: 1.0776206 (8)\ttotal: 221ms\tremaining: 24.3s\n",
      "9:\tlearn: 0.8689281\ttest: 1.0686357\tbest: 1.0686357 (9)\ttotal: 243ms\tremaining: 24.1s\n",
      "10:\tlearn: 0.8385524\ttest: 1.0610842\tbest: 1.0610842 (10)\ttotal: 267ms\tremaining: 24s\n",
      "11:\tlearn: 0.8143026\ttest: 1.0421138\tbest: 1.0421138 (11)\ttotal: 289ms\tremaining: 23.8s\n",
      "12:\tlearn: 0.7872141\ttest: 1.0202799\tbest: 1.0202799 (12)\ttotal: 312ms\tremaining: 23.7s\n",
      "13:\tlearn: 0.7602809\ttest: 0.9988120\tbest: 0.9988120 (13)\ttotal: 334ms\tremaining: 23.5s\n",
      "14:\tlearn: 0.7396325\ttest: 0.9871149\tbest: 0.9871149 (14)\ttotal: 359ms\tremaining: 23.5s\n",
      "15:\tlearn: 0.7130524\ttest: 0.9780959\tbest: 0.9780959 (15)\ttotal: 380ms\tremaining: 23.3s\n",
      "16:\tlearn: 0.6849914\ttest: 0.9670343\tbest: 0.9670343 (16)\ttotal: 402ms\tremaining: 23.2s\n",
      "17:\tlearn: 0.6637168\ttest: 0.9557974\tbest: 0.9557974 (17)\ttotal: 425ms\tremaining: 23.2s\n",
      "18:\tlearn: 0.6394273\ttest: 0.9381580\tbest: 0.9381580 (18)\ttotal: 446ms\tremaining: 23s\n",
      "19:\tlearn: 0.6198548\ttest: 0.9287470\tbest: 0.9287470 (19)\ttotal: 467ms\tremaining: 22.9s\n",
      "20:\tlearn: 0.5991905\ttest: 0.9101967\tbest: 0.9101967 (20)\ttotal: 488ms\tremaining: 22.7s\n",
      "21:\tlearn: 0.5796126\ttest: 0.8993081\tbest: 0.8993081 (21)\ttotal: 509ms\tremaining: 22.6s\n",
      "22:\tlearn: 0.5638740\ttest: 0.8935702\tbest: 0.8935702 (22)\ttotal: 531ms\tremaining: 22.6s\n",
      "23:\tlearn: 0.5474919\ttest: 0.8880260\tbest: 0.8880260 (23)\ttotal: 552ms\tremaining: 22.4s\n",
      "24:\tlearn: 0.5343326\ttest: 0.8785748\tbest: 0.8785748 (24)\ttotal: 575ms\tremaining: 22.4s\n",
      "25:\tlearn: 0.5155658\ttest: 0.8742926\tbest: 0.8742926 (25)\ttotal: 598ms\tremaining: 22.4s\n",
      "26:\tlearn: 0.5019057\ttest: 0.8685091\tbest: 0.8685091 (26)\ttotal: 625ms\tremaining: 22.5s\n",
      "27:\tlearn: 0.4881424\ttest: 0.8616639\tbest: 0.8616639 (27)\ttotal: 648ms\tremaining: 22.5s\n",
      "28:\tlearn: 0.4766140\ttest: 0.8526239\tbest: 0.8526239 (28)\ttotal: 670ms\tremaining: 22.4s\n",
      "29:\tlearn: 0.4630726\ttest: 0.8418165\tbest: 0.8418165 (29)\ttotal: 693ms\tremaining: 22.4s\n",
      "30:\tlearn: 0.4488901\ttest: 0.8318941\tbest: 0.8318941 (30)\ttotal: 716ms\tremaining: 22.4s\n",
      "31:\tlearn: 0.4392799\ttest: 0.8271473\tbest: 0.8271473 (31)\ttotal: 739ms\tremaining: 22.4s\n",
      "32:\tlearn: 0.4300706\ttest: 0.8265715\tbest: 0.8265715 (32)\ttotal: 761ms\tremaining: 22.3s\n",
      "33:\tlearn: 0.4218840\ttest: 0.8219624\tbest: 0.8219624 (33)\ttotal: 784ms\tremaining: 22.3s\n",
      "34:\tlearn: 0.4097691\ttest: 0.8122874\tbest: 0.8122874 (34)\ttotal: 807ms\tremaining: 22.3s\n",
      "35:\tlearn: 0.4003924\ttest: 0.8060084\tbest: 0.8060084 (35)\ttotal: 830ms\tremaining: 22.2s\n",
      "36:\tlearn: 0.3875820\ttest: 0.7844974\tbest: 0.7844974 (36)\ttotal: 852ms\tremaining: 22.2s\n",
      "37:\tlearn: 0.3789473\ttest: 0.7780371\tbest: 0.7780371 (37)\ttotal: 877ms\tremaining: 22.2s\n",
      "38:\tlearn: 0.3723612\ttest: 0.7727459\tbest: 0.7727459 (38)\ttotal: 901ms\tremaining: 22.2s\n",
      "39:\tlearn: 0.3631169\ttest: 0.7664057\tbest: 0.7664057 (39)\ttotal: 921ms\tremaining: 22.1s\n",
      "40:\tlearn: 0.3551560\ttest: 0.7645163\tbest: 0.7645163 (40)\ttotal: 945ms\tremaining: 22.1s\n",
      "41:\tlearn: 0.3454647\ttest: 0.7640593\tbest: 0.7640593 (41)\ttotal: 966ms\tremaining: 22s\n",
      "42:\tlearn: 0.3382859\ttest: 0.7640995\tbest: 0.7640593 (41)\ttotal: 987ms\tremaining: 22s\n",
      "43:\tlearn: 0.3309314\ttest: 0.7578621\tbest: 0.7578621 (43)\ttotal: 1.01s\tremaining: 21.9s\n",
      "44:\tlearn: 0.3245666\ttest: 0.7602445\tbest: 0.7578621 (43)\ttotal: 1.03s\tremaining: 21.8s\n",
      "45:\tlearn: 0.3149853\ttest: 0.7508727\tbest: 0.7508727 (45)\ttotal: 1.05s\tremaining: 21.8s\n",
      "46:\tlearn: 0.3084712\ttest: 0.7501374\tbest: 0.7501374 (46)\ttotal: 1.07s\tremaining: 21.7s\n",
      "47:\tlearn: 0.3019134\ttest: 0.7459992\tbest: 0.7459992 (47)\ttotal: 1.09s\tremaining: 21.6s\n",
      "48:\tlearn: 0.2956338\ttest: 0.7440456\tbest: 0.7440456 (48)\ttotal: 1.11s\tremaining: 21.6s\n",
      "49:\tlearn: 0.2892632\ttest: 0.7402299\tbest: 0.7402299 (49)\ttotal: 1.13s\tremaining: 21.5s\n",
      "50:\tlearn: 0.2812674\ttest: 0.7306281\tbest: 0.7306281 (50)\ttotal: 1.15s\tremaining: 21.4s\n",
      "51:\tlearn: 0.2752644\ttest: 0.7200676\tbest: 0.7200676 (51)\ttotal: 1.17s\tremaining: 21.4s\n",
      "52:\tlearn: 0.2704857\ttest: 0.7174807\tbest: 0.7174807 (52)\ttotal: 1.2s\tremaining: 21.4s\n",
      "53:\tlearn: 0.2627071\ttest: 0.7146784\tbest: 0.7146784 (53)\ttotal: 1.22s\tremaining: 21.3s\n",
      "54:\tlearn: 0.2577026\ttest: 0.7112558\tbest: 0.7112558 (54)\ttotal: 1.24s\tremaining: 21.3s\n",
      "55:\tlearn: 0.2531300\ttest: 0.7135995\tbest: 0.7112558 (54)\ttotal: 1.26s\tremaining: 21.3s\n",
      "56:\tlearn: 0.2483709\ttest: 0.7139037\tbest: 0.7112558 (54)\ttotal: 1.28s\tremaining: 21.2s\n",
      "57:\tlearn: 0.2437136\ttest: 0.7145833\tbest: 0.7112558 (54)\ttotal: 1.31s\tremaining: 21.2s\n",
      "58:\tlearn: 0.2384681\ttest: 0.7103344\tbest: 0.7103344 (58)\ttotal: 1.33s\tremaining: 21.2s\n",
      "59:\tlearn: 0.2342312\ttest: 0.7065754\tbest: 0.7065754 (59)\ttotal: 1.35s\tremaining: 21.2s\n",
      "60:\tlearn: 0.2279375\ttest: 0.7065781\tbest: 0.7065754 (59)\ttotal: 1.38s\tremaining: 21.2s\n",
      "61:\tlearn: 0.2238235\ttest: 0.6996358\tbest: 0.6996358 (61)\ttotal: 1.4s\tremaining: 21.2s\n",
      "62:\tlearn: 0.2199097\ttest: 0.6948278\tbest: 0.6948278 (62)\ttotal: 1.42s\tremaining: 21.2s\n",
      "63:\tlearn: 0.2144124\ttest: 0.6963500\tbest: 0.6948278 (62)\ttotal: 1.45s\tremaining: 21.1s\n",
      "64:\tlearn: 0.2095326\ttest: 0.6916365\tbest: 0.6916365 (64)\ttotal: 1.47s\tremaining: 21.1s\n",
      "65:\tlearn: 0.2046761\ttest: 0.6926042\tbest: 0.6916365 (64)\ttotal: 1.49s\tremaining: 21s\n",
      "66:\tlearn: 0.2010240\ttest: 0.6930459\tbest: 0.6916365 (64)\ttotal: 1.51s\tremaining: 21s\n",
      "67:\tlearn: 0.1951398\ttest: 0.6918132\tbest: 0.6916365 (64)\ttotal: 1.53s\tremaining: 20.9s\n",
      "68:\tlearn: 0.1909836\ttest: 0.6902784\tbest: 0.6902784 (68)\ttotal: 1.55s\tremaining: 20.9s\n",
      "69:\tlearn: 0.1881014\ttest: 0.6892120\tbest: 0.6892120 (69)\ttotal: 1.57s\tremaining: 20.9s\n",
      "70:\tlearn: 0.1837620\ttest: 0.6844284\tbest: 0.6844284 (70)\ttotal: 1.59s\tremaining: 20.8s\n",
      "71:\tlearn: 0.1808463\ttest: 0.6866794\tbest: 0.6844284 (70)\ttotal: 1.61s\tremaining: 20.8s\n",
      "72:\tlearn: 0.1772791\ttest: 0.6859393\tbest: 0.6844284 (70)\ttotal: 1.64s\tremaining: 20.8s\n",
      "73:\tlearn: 0.1742977\ttest: 0.6861796\tbest: 0.6844284 (70)\ttotal: 1.66s\tremaining: 20.8s\n",
      "74:\tlearn: 0.1709974\ttest: 0.6831838\tbest: 0.6831838 (74)\ttotal: 1.68s\tremaining: 20.7s\n",
      "75:\tlearn: 0.1682628\ttest: 0.6774438\tbest: 0.6774438 (75)\ttotal: 1.7s\tremaining: 20.7s\n",
      "76:\tlearn: 0.1645158\ttest: 0.6797923\tbest: 0.6774438 (75)\ttotal: 1.72s\tremaining: 20.7s\n",
      "77:\tlearn: 0.1616001\ttest: 0.6804451\tbest: 0.6774438 (75)\ttotal: 1.74s\tremaining: 20.6s\n",
      "78:\tlearn: 0.1576066\ttest: 0.6775533\tbest: 0.6774438 (75)\ttotal: 1.76s\tremaining: 20.6s\n",
      "79:\tlearn: 0.1549330\ttest: 0.6779722\tbest: 0.6774438 (75)\ttotal: 1.78s\tremaining: 20.5s\n",
      "80:\tlearn: 0.1521838\ttest: 0.6767890\tbest: 0.6767890 (80)\ttotal: 1.8s\tremaining: 20.5s\n",
      "81:\tlearn: 0.1488243\ttest: 0.6792558\tbest: 0.6767890 (80)\ttotal: 1.83s\tremaining: 20.5s\n",
      "82:\tlearn: 0.1463555\ttest: 0.6800453\tbest: 0.6767890 (80)\ttotal: 1.85s\tremaining: 20.4s\n",
      "83:\tlearn: 0.1433305\ttest: 0.6800836\tbest: 0.6767890 (80)\ttotal: 1.87s\tremaining: 20.4s\n",
      "84:\tlearn: 0.1412565\ttest: 0.6806481\tbest: 0.6767890 (80)\ttotal: 1.9s\tremaining: 20.4s\n",
      "85:\tlearn: 0.1384107\ttest: 0.6775810\tbest: 0.6767890 (80)\ttotal: 1.92s\tremaining: 20.4s\n",
      "86:\tlearn: 0.1356930\ttest: 0.6775309\tbest: 0.6767890 (80)\ttotal: 1.94s\tremaining: 20.4s\n",
      "87:\tlearn: 0.1336329\ttest: 0.6747828\tbest: 0.6747828 (87)\ttotal: 1.96s\tremaining: 20.3s\n",
      "88:\tlearn: 0.1317445\ttest: 0.6732578\tbest: 0.6732578 (88)\ttotal: 1.99s\tremaining: 20.3s\n",
      "89:\tlearn: 0.1299780\ttest: 0.6743697\tbest: 0.6732578 (88)\ttotal: 2.01s\tremaining: 20.3s\n",
      "90:\tlearn: 0.1275734\ttest: 0.6746584\tbest: 0.6732578 (88)\ttotal: 2.03s\tremaining: 20.3s\n",
      "91:\tlearn: 0.1259425\ttest: 0.6763778\tbest: 0.6732578 (88)\ttotal: 2.06s\tremaining: 20.3s\n",
      "92:\tlearn: 0.1238606\ttest: 0.6756300\tbest: 0.6732578 (88)\ttotal: 2.08s\tremaining: 20.3s\n",
      "93:\tlearn: 0.1221933\ttest: 0.6775534\tbest: 0.6732578 (88)\ttotal: 2.1s\tremaining: 20.2s\n",
      "94:\tlearn: 0.1201506\ttest: 0.6753693\tbest: 0.6732578 (88)\ttotal: 2.12s\tremaining: 20.2s\n",
      "95:\tlearn: 0.1182502\ttest: 0.6768679\tbest: 0.6732578 (88)\ttotal: 2.14s\tremaining: 20.2s\n",
      "96:\tlearn: 0.1161842\ttest: 0.6794048\tbest: 0.6732578 (88)\ttotal: 2.17s\tremaining: 20.2s\n",
      "97:\tlearn: 0.1147321\ttest: 0.6795066\tbest: 0.6732578 (88)\ttotal: 2.19s\tremaining: 20.1s\n",
      "98:\tlearn: 0.1129156\ttest: 0.6784307\tbest: 0.6732578 (88)\ttotal: 2.21s\tremaining: 20.1s\n",
      "bestTest = 0.6732577596\n",
      "bestIteration = 88\n",
      "Shrink model to first 89 iterations.\n"
     ]
    }
   ],
   "source": [
    "task_type = 'GPU' if torch.cuda.is_available() else 'CPU'\n",
    "clf = CatBoostClassifier(iterations=1000, early_stopping_rounds=10, task_type=task_type, random_seed=42)\n",
    "clf = clf.fit(train_embs.cpu().numpy(), y_train.cpu().numpy(), eval_set=(val_embs.cpu().numpy(), y_val.cpu().numpy()))"
   ]
  },
  {
   "cell_type": "code",
   "execution_count": 44,
   "metadata": {},
   "outputs": [
    {
     "name": "stdout",
     "output_type": "stream",
     "text": [
      "              precision    recall  f1-score   support\n",
      "\n",
      "           0       1.00      0.79      0.88        19\n",
      "           1       0.67      1.00      0.80         2\n",
      "           2       0.67      1.00      0.80         4\n",
      "           3       0.83      0.91      0.87        11\n",
      "\n",
      "    accuracy                           0.86        36\n",
      "   macro avg       0.79      0.92      0.84        36\n",
      "weighted avg       0.89      0.86      0.86        36\n",
      "\n"
     ]
    }
   ],
   "source": [
    "print(classification_report(clf.predict(test_embs.cpu().numpy()), data.test_y.cpu().numpy()))"
   ]
  }
 ],
 "metadata": {
  "interpreter": {
   "hash": "d4d1e4263499bec80672ea0156c357c1ee493ec2b1c70f0acce89fc37c4a6abe"
  },
  "kernelspec": {
   "display_name": "Python 3",
   "language": "python",
   "name": "python3"
  },
  "language_info": {
   "codemirror_mode": {
    "name": "ipython",
    "version": 3
   },
   "file_extension": ".py",
   "mimetype": "text/x-python",
   "name": "python",
   "nbconvert_exporter": "python",
   "pygments_lexer": "ipython3",
   "version": "3.8.10"
  }
 },
 "nbformat": 4,
 "nbformat_minor": 2
}
