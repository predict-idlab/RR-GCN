{
 "cells": [
  {
   "cell_type": "code",
   "execution_count": 1,
   "metadata": {},
   "outputs": [],
   "source": [
    "import pandas as pd"
   ]
  },
  {
   "cell_type": "code",
   "execution_count": 2,
   "metadata": {},
   "outputs": [],
   "source": [
    "tuning_results_df = pd.read_csv(\"tuning_results.csv\")"
   ]
  },
  {
   "cell_type": "code",
   "execution_count": 3,
   "metadata": {},
   "outputs": [
    {
     "name": "stdout",
     "output_type": "stream",
     "text": [
      "\\begin{tabular}{lrrrr}\n",
      "\\toprule\n",
      "{} & \\multicolumn{2}{l}{layers} & \\multicolumn{2}{l}{embedding} \\\\\n",
      "ppv &      0 &  1 &         0 &     1 \\\\\n",
      "dataset &        &    &           &       \\\\\n",
      "\\midrule\n",
      "AIFB    &      4 &  1 &       256 &   512 \\\\\n",
      "AM      &      5 &  5 &       768 &   768 \\\\\n",
      "AMPLUS  &      5 &  5 &      1024 &  1024 \\\\\n",
      "BGS     &      5 &  5 &       512 &   512 \\\\\n",
      "DBLP    &      5 &  5 &       256 &   256 \\\\\n",
      "DMG777K &      2 &  2 &      1024 &  1024 \\\\\n",
      "DMGFULL &      2 &  1 &       256 &  1024 \\\\\n",
      "MDGENRE &      5 &  5 &       768 &  1024 \\\\\n",
      "MUTAG   &      2 &  2 &      1024 &  1024 \\\\\n",
      "\\bottomrule\n",
      "\\end{tabular}\n",
      "\n"
     ]
    },
    {
     "name": "stderr",
     "output_type": "stream",
     "text": [
      "/tmp/ipykernel_8542/3075982170.py:4: FutureWarning: In future versions `DataFrame.to_latex` is expected to utilise the base implementation of `Styler.to_latex` for formatting and rendering. The arguments signature may therefore change. It is recommended instead to use `DataFrame.style.to_latex` which also contains additional functionality.\n",
      "  print(tuning_df.to_latex())\n"
     ]
    }
   ],
   "source": [
    "tuning_df = (\n",
    "    pd.DataFrame(\n",
    "        tuning_results_df.groupby([\"num_layers\", \"embedding_size\", \"dataset\", \"ppv\"])\n",
    "        .mean()\n",
    "        .groupby([\"dataset\", \"ppv\"])\n",
    "        .idxmin()[\"loss\"]\n",
    "        .to_list(),\n",
    "        columns=[\"layers\", \"embedding\", \"dataset\", \"ppv\"],\n",
    "    )\n",
    "    .set_index([\"dataset\", \"ppv\"])\n",
    "    .reset_index()\n",
    "    .pivot(index=\"dataset\", columns=\"ppv\", values=[\"layers\", \"embedding\"])\n",
    "    .reset_index()\n",
    ")\n",
    "tuning_df.dataset = tuning_df.dataset.apply(lambda x: x.upper())\n",
    "tuning_df = tuning_df.set_index(\"dataset\")\n",
    "print(tuning_df.to_latex())\n"
   ]
  },
  {
   "cell_type": "code",
   "execution_count": 4,
   "metadata": {},
   "outputs": [],
   "source": [
    "# Results for 10 runs of trained R-GCN using\n",
    "# https://github.com/thiviyanT/torch-rgcn\n",
    "# for small KGs (w/ number of epochs tuned using a held-out validation set) and\n",
    "# https://github.com/pbloem/kgbench-data\n",
    "# for kgbench (w/ early stopping on validation set)\n",
    "accuracies_rgcn = {\n",
    "    \"amplus\": [\n",
    "        0.83425,\n",
    "        0.83365,\n",
    "        0.84645,\n",
    "        0.8403,\n",
    "        0.8415,\n",
    "        0.83535,\n",
    "        0.83525,\n",
    "        0.8366,\n",
    "        0.83775,\n",
    "        0.84,\n",
    "    ],\n",
    "    \"dmg777k\": [\n",
    "        0.628686,\n",
    "        0.634683,\n",
    "        0.62069,\n",
    "        0.597701,\n",
    "        0.61919,\n",
    "        0.618191,\n",
    "        0.625187,\n",
    "        0.637181,\n",
    "        0.632184,\n",
    "        0.637681,\n",
    "    ],\n",
    "    \"dmgfull\": [\n",
    "        0.5702,\n",
    "        0.57305,\n",
    "        0.573,\n",
    "        0.57515,\n",
    "        0.5837,\n",
    "        0.5734,\n",
    "        0.573,\n",
    "        0.58875,\n",
    "        0.5714,\n",
    "        0.5706,\n",
    "    ],\n",
    "    \"mdgenre\": [\n",
    "        0.675208,\n",
    "        0.665557,\n",
    "        0.675208,\n",
    "        0.67787,\n",
    "        0.66589,\n",
    "        0.671547,\n",
    "        0.664559,\n",
    "        0.6802,\n",
    "        0.677537,\n",
    "        0.679867,\n",
    "    ],\n",
    "    \"aifb\": [\n",
    "        97.22222222222221,\n",
    "        94.44444444444444,\n",
    "        94.44444444444444,\n",
    "        97.22222222222221,\n",
    "        97.22222222222221,\n",
    "        94.44444444444444,\n",
    "        97.22222222222221,\n",
    "        97.22222222222221,\n",
    "        94.44444444444444,\n",
    "        97.22222222222221,\n",
    "    ],\n",
    "    \"bgs\": [\n",
    "        89.65517241379311,\n",
    "        89.65517241379311,\n",
    "        86.20689655172413,\n",
    "        86.20689655172413,\n",
    "        86.20689655172413,\n",
    "        82.75862068965517,\n",
    "        86.20689655172413,\n",
    "        89.65517241379311,\n",
    "        82.75862068965517,\n",
    "        82.75862068965517,\n",
    "    ],\n",
    "    \"am\": [\n",
    "        89.39393939393939,\n",
    "        90.40404040404042,\n",
    "        87.37373737373737,\n",
    "        87.37373737373737,\n",
    "        89.8989898989899,\n",
    "        90.40404040404042,\n",
    "        87.37373737373737,\n",
    "        88.88888888888889,\n",
    "        88.88888888888889,\n",
    "        89.8989898989899,\n",
    "    ],\n",
    "    \"mutag\": [\n",
    "        72.05882352941177,\n",
    "        76.47058823529412,\n",
    "        72.05882352941177,\n",
    "        67.64705882352942,\n",
    "        73.52941176470588,\n",
    "        69.11764705882352,\n",
    "        73.52941176470588,\n",
    "        76.47058823529412,\n",
    "        73.52941176470588,\n",
    "        70.58823529411765,\n",
    "    ],\n",
    "    \"dblp\": [\n",
    "        0.619,\n",
    "        0.6936,\n",
    "        0.712,\n",
    "        0.70655,\n",
    "        0.6384,\n",
    "        0.70375,\n",
    "        0.68435,\n",
    "        0.70375,\n",
    "        0.68435,\n",
    "        0.7051,\n",
    "    ],\n",
    "}\n",
    "\n",
    "accuracies_cut_rgcn = {\n",
    "    \"aifb\": [\n",
    "        94.44444444444444,\n",
    "        94.44444444444444,\n",
    "        97.22222222222221,\n",
    "        94.44444444444444,\n",
    "        94.44444444444444,\n",
    "        97.22222222222221,\n",
    "        97.22222222222221,\n",
    "        94.44444444444444,\n",
    "        94.44444444444444,\n",
    "        97.22222222222221,\n",
    "    ],\n",
    "    \"bgs\": [\n",
    "        86.20689655172413,\n",
    "        82.75862068965517,\n",
    "        86.20689655172413,\n",
    "        89.65517241379311,\n",
    "        89.65517241379311,\n",
    "        82.75862068965517,\n",
    "        86.20689655172413,\n",
    "        82.75862068965517,\n",
    "        89.65517241379311,\n",
    "        86.20689655172413,\n",
    "    ],\n",
    "    \"am\": [\n",
    "        89.8989898989899,\n",
    "        89.8989898989899,\n",
    "        87.87878787878788,\n",
    "        87.37373737373737,\n",
    "        86.86868686868688,\n",
    "        87.37373737373737,\n",
    "        86.36363636363636,\n",
    "        89.39393939393939,\n",
    "        88.88888888888889,\n",
    "        87.37373737373737,\n",
    "    ],\n",
    "}\n"
   ]
  },
  {
   "cell_type": "code",
   "execution_count": 5,
   "metadata": {},
   "outputs": [],
   "source": [
    "evaluation_results_df = pd.read_csv(\"evaluation_results.csv\")"
   ]
  },
  {
   "cell_type": "code",
   "execution_count": 6,
   "metadata": {},
   "outputs": [
    {
     "name": "stdout",
     "output_type": "stream",
     "text": [
      "AIFB & 96.11 $\\pm$ 0.45 & 83.33 $\\pm$ 1.37 & 86.11 $\\pm$ 0.93 \\\\\n",
      "MUTAG & 72.50 $\\pm$ 0.91 & 70.00 $\\pm$ 0.83 & 79.41 $\\pm$ 0.58 \\\\\n",
      "BGS & 86.21 $\\pm$ 0.89 & 80.00 $\\pm$ 2.34 & 78.97 $\\pm$ 2.44 \\\\\n",
      "AM & 88.99 $\\pm$ 0.39 & 81.67 $\\pm$ 0.57 & 84.65 $\\pm$ 0.62 \\\\\n",
      "AMPLUS & 83.81 $\\pm$ 0.13 & 76.85 $\\pm$ 0.06 & 84.54 $\\pm$ 0.08 \\\\\n",
      "DMG777K & 62.51 $\\pm$ 0.38 & 61.40 $\\pm$ 0.32 & 63.97 $\\pm$ 0.26 \\\\\n",
      "DMGFULL & 57.52 $\\pm$ 0.19 & 60.50 $\\pm$ 0.26 & 63.38 $\\pm$ 0.17 \\\\\n",
      "MDGENRE & 67.33 $\\pm$ 0.19 & 65.09 $\\pm$ 0.10 & 67.15 $\\pm$ 0.08 \\\\\n",
      "DBLP & 68.51 $\\pm$ 0.99 & 70.18 $\\pm$ 0.11 & 70.61 $\\pm$ 0.07 \\\\\n"
     ]
    }
   ],
   "source": [
    "import numpy as np\n",
    "from scipy.stats import sem\n",
    "\n",
    "small = [\"aifb\", \"mutag\", \"bgs\", \"am\"]\n",
    "kgb = [\"amplus\", \"dmg777k\", \"dmgfull\", \"mdgenre\", \"dblp\"]\n",
    "for dataset in small + kgb:\n",
    "    rgcn_accuracy = np.array(accuracies_rgcn[dataset])\n",
    "    if dataset in kgb:\n",
    "        rgcn_accuracy *= 100\n",
    "\n",
    "    rrgcn_res_ppv = evaluation_results_df[\n",
    "        (evaluation_results_df.dataset == dataset) & (evaluation_results_df.ppv == True)\n",
    "    ]\n",
    "    rrgcn_res = evaluation_results_df[\n",
    "        (evaluation_results_df.dataset == dataset)\n",
    "        & (evaluation_results_df.ppv == False)\n",
    "    ]\n",
    "    rrgcn_acc = rrgcn_res[\"acc\"].values * 100\n",
    "    rrgcn_ppv_acc = rrgcn_res_ppv[\"acc\"].values * 100\n",
    "\n",
    "    rgcn_text = (\n",
    "        format(rgcn_accuracy.mean(), \".2f\")\n",
    "        + \" $\\pm$ \"\n",
    "        + format(sem(rgcn_accuracy), \".2f\")\n",
    "    )\n",
    "    rrgcn_text = (\n",
    "        format(rrgcn_acc.mean(), \".2f\") + \" $\\pm$ \" + format(sem(rrgcn_acc), \".2f\")\n",
    "    )\n",
    "    rrgcn_ppv_text = (\n",
    "        format(rrgcn_ppv_acc.mean(), \".2f\")\n",
    "        + \" $\\pm$ \"\n",
    "        + format(sem(rrgcn_ppv_acc), \".2f\")\n",
    "    )\n",
    "\n",
    "    print(f\"{dataset.upper()} & {rgcn_text} & {rrgcn_text} & {rrgcn_ppv_text} \\\\\\\\\")\n"
   ]
  },
  {
   "cell_type": "code",
   "execution_count": 7,
   "metadata": {},
   "outputs": [],
   "source": [
    "cut_evaluation_results_df = pd.read_csv(\"evaluation_results_degree_cutting.csv\")"
   ]
  },
  {
   "cell_type": "code",
   "execution_count": 8,
   "metadata": {},
   "outputs": [
    {
     "name": "stdout",
     "output_type": "stream",
     "text": [
      "\\smalltab \\textbf{Model}  & \\smalltab\\textbf{AIFB} & \\smalltab\\textbf{BGS} & \\smalltab\\textbf{AM} \\\\\\midrule\n",
      "\\textsc{r-gcn} & 96.11 $\\pm$ 0.45 & 86.21 $\\pm$ 0.89 & 88.99 $\\pm$ 0.39 \\\\\n",
      "\\textsc{rr-gcn-ppv} & 86.11 $\\pm$ 0.93 & 78.97 $\\pm$ 2.44 & 84.65 $\\pm$ 0.62 \\\\\n",
      "\\textsc{r-gcn-cut} & 95.56 $\\pm$ 0.45 & 86.21 $\\pm$ 0.89 & 88.13 $\\pm$ 0.41 \\\\\n",
      "\\textsc{rr-gcn-ppv-cut} & 95.83 $\\pm$ 0.62 & 84.14 $\\pm$ 1.38 & 84.80 $\\pm$ 0.23 \\\\\n"
     ]
    }
   ],
   "source": [
    "cut = [\"aifb\", \"bgs\", \"am\"]\n",
    "header = \"\\\\smalltab \\\\textbf{Model}  & \"\n",
    "rgcn_line = \"\\\\textsc{r-gcn} & \"\n",
    "rrgcn_line = \"\\\\textsc{rr-gcn-ppv} & \"\n",
    "rgcn_cut_line = \"\\\\textsc{r-gcn-cut} & \"\n",
    "rrgcn_cut_line = \"\\\\textsc{rr-gcn-ppv-cut} & \"\n",
    "\n",
    "for dataset in cut:\n",
    "    rgcn_cut_accuracy = np.array(accuracies_cut_rgcn[dataset])\n",
    "    if dataset in kgb:\n",
    "        rgcn_cut_accuracy *= 100\n",
    "\n",
    "    rgcn_accuracy = np.array(accuracies_rgcn[dataset])\n",
    "    if dataset in kgb:\n",
    "        rgcn_accuracy *= 100\n",
    "\n",
    "    rrgcn_cut_res_ppv = cut_evaluation_results_df[\n",
    "        (cut_evaluation_results_df.dataset == dataset)\n",
    "        & (cut_evaluation_results_df.ppv == True)\n",
    "    ]\n",
    "    rrgcn_cut_ppv_acc = rrgcn_cut_res_ppv[\"acc\"].values * 100\n",
    "\n",
    "    rrgcn_res_ppv = evaluation_results_df[\n",
    "        (evaluation_results_df.dataset == dataset) & (evaluation_results_df.ppv == True)\n",
    "    ]\n",
    "    rrgcn_ppv_acc = rrgcn_res_ppv[\"acc\"].values * 100\n",
    "\n",
    "    rgcn_text = (\n",
    "        format(rgcn_accuracy.mean(), \".2f\")\n",
    "        + \" $\\pm$ \"\n",
    "        + format(sem(rgcn_accuracy), \".2f\")\n",
    "    )\n",
    "    rrgcn_ppv_text = (\n",
    "        format(rrgcn_ppv_acc.mean(), \".2f\")\n",
    "        + \" $\\pm$ \"\n",
    "        + format(sem(rrgcn_ppv_acc), \".2f\")\n",
    "    )\n",
    "\n",
    "    rgcn_cut_text = (\n",
    "        format(rgcn_cut_accuracy.mean(), \".2f\")\n",
    "        + \" $\\pm$ \"\n",
    "        + format(sem(rgcn_cut_accuracy), \".2f\")\n",
    "    )\n",
    "    rrgcn_cut_ppv_text = (\n",
    "        format(rrgcn_cut_ppv_acc.mean(), \".2f\")\n",
    "        + \" $\\pm$ \"\n",
    "        + format(sem(rrgcn_cut_ppv_acc), \".2f\")\n",
    "    )\n",
    "\n",
    "    header += \"\\\\smalltab\\\\textbf{\" + dataset.upper() + \"} & \"\n",
    "    rgcn_line += f\"{rgcn_text} & \"\n",
    "    rrgcn_line += f\"{rrgcn_ppv_text} & \"\n",
    "    rgcn_cut_line += f\"{rgcn_cut_text} & \"\n",
    "    rrgcn_cut_line += f\"{rrgcn_cut_ppv_text} & \"\n",
    "print(header[:-3] + \" \\\\\\\\\\\\midrule\")\n",
    "print(rgcn_line[:-3] + \" \\\\\\\\\")\n",
    "print(rrgcn_line[:-3] + \" \\\\\\\\\")\n",
    "print(rgcn_cut_line[:-3] + \" \\\\\\\\\")\n",
    "print(rrgcn_cut_line[:-3] + \" \\\\\\\\\")\n"
   ]
  },
  {
   "cell_type": "code",
   "execution_count": 9,
   "metadata": {},
   "outputs": [],
   "source": [
    "relcut_evaluation_results_df = pd.read_csv(\"evaluation_results_relation_cutting.csv\")"
   ]
  },
  {
   "cell_type": "code",
   "execution_count": 10,
   "metadata": {},
   "outputs": [
    {
     "name": "stdout",
     "output_type": "stream",
     "text": [
      "91.31 $\\pm$ 0.24\n"
     ]
    }
   ],
   "source": [
    "relcuts = [\"am\"]\n",
    "for dataset in relcuts:\n",
    "    accs = (\n",
    "        relcut_evaluation_results_df[\n",
    "            (relcut_evaluation_results_df.dataset == dataset)\n",
    "            & (relcut_evaluation_results_df.ppv == True)\n",
    "        ][\"acc\"]\n",
    "        * 100\n",
    "    )\n",
    "    print((format(accs.mean(), \".2f\") + \" $\\pm$ \" + format(sem(accs), \".2f\")))\n"
   ]
  },
  {
   "cell_type": "code",
   "execution_count": 11,
   "metadata": {},
   "outputs": [],
   "source": [
    "from scipy.stats import mannwhitneyu"
   ]
  },
  {
   "cell_type": "code",
   "execution_count": 12,
   "metadata": {},
   "outputs": [
    {
     "data": {
      "text/plain": [
       "MannwhitneyuResult(statistic=97.0, pvalue=0.0003873156135084648)"
      ]
     },
     "execution_count": 12,
     "metadata": {},
     "output_type": "execute_result"
    }
   ],
   "source": [
    "dataset = \"am\"\n",
    "rrgcn_res_ppv = relcut_evaluation_results_df[\n",
    "    (relcut_evaluation_results_df.dataset == dataset)\n",
    "    & (relcut_evaluation_results_df.ppv == True)\n",
    "]\n",
    "rrgcn_ppv_acc = rrgcn_res_ppv[\"acc\"].values * 100\n",
    "rgcn_accuracy = np.array(accuracies_rgcn[dataset])\n",
    "mannwhitneyu(rrgcn_ppv_acc, rgcn_accuracy)\n"
   ]
  },
  {
   "cell_type": "code",
   "execution_count": 13,
   "metadata": {},
   "outputs": [
    {
     "data": {
      "text/plain": [
       "MannwhitneyuResult(statistic=38.0, pvalue=0.38413626923848176)"
      ]
     },
     "execution_count": 13,
     "metadata": {},
     "output_type": "execute_result"
    }
   ],
   "source": [
    "dataset = \"mdgenre\"\n",
    "rrgcn_res_ppv = evaluation_results_df[\n",
    "    (evaluation_results_df.dataset == dataset) & (evaluation_results_df.ppv == True)\n",
    "]\n",
    "rrgcn_ppv_acc = rrgcn_res_ppv[\"acc\"].values\n",
    "rgcn_accuracy = np.array(accuracies_rgcn[dataset])\n",
    "mannwhitneyu(rrgcn_ppv_acc, rgcn_accuracy)\n"
   ]
  },
  {
   "cell_type": "code",
   "execution_count": 14,
   "metadata": {},
   "outputs": [
    {
     "data": {
      "text/plain": [
       "MannwhitneyuResult(statistic=43.5, pvalue=0.6365014673152993)"
      ]
     },
     "execution_count": 14,
     "metadata": {},
     "output_type": "execute_result"
    }
   ],
   "source": [
    "dataset = \"bgs\"\n",
    "rrgcn_res_ppv = evaluation_results_df[\n",
    "    (evaluation_results_df.dataset == dataset) & (evaluation_results_df.ppv == True)\n",
    "]\n",
    "rrgcn_ppv_acc = rrgcn_res_ppv[\"acc\"].values * 100\n",
    "rrgcn_res = evaluation_results_df[\n",
    "    (evaluation_results_df.dataset == dataset) & (evaluation_results_df.ppv == False)\n",
    "]\n",
    "rrgcn_acc = rrgcn_res[\"acc\"].values * 100\n",
    "\n",
    "rgcn_accuracy = np.array(accuracies_rgcn[dataset])\n",
    "mannwhitneyu(rrgcn_ppv_acc, rrgcn_acc)\n"
   ]
  },
  {
   "cell_type": "code",
   "execution_count": 15,
   "metadata": {},
   "outputs": [
    {
     "data": {
      "text/plain": [
       "MannwhitneyuResult(statistic=37.0, pvalue=0.32225177379007863)"
      ]
     },
     "execution_count": 15,
     "metadata": {},
     "output_type": "execute_result"
    }
   ],
   "source": [
    "dataset = \"bgs\"\n",
    "rrgcn_res_ppv = cut_evaluation_results_df[\n",
    "    (cut_evaluation_results_df.dataset == dataset)\n",
    "    & (cut_evaluation_results_df.ppv == True)\n",
    "]\n",
    "rrgcn_ppv_acc = rrgcn_res_ppv[\"acc\"].values * 100\n",
    "rgcn_accuracy = np.array(accuracies_rgcn[dataset])\n",
    "mannwhitneyu(rrgcn_ppv_acc, rgcn_accuracy)\n"
   ]
  },
  {
   "cell_type": "code",
   "execution_count": 17,
   "metadata": {},
   "outputs": [
    {
     "data": {
      "text/plain": [
       "MannwhitneyuResult(statistic=48.0, pvalue=0.8953333518420598)"
      ]
     },
     "execution_count": 17,
     "metadata": {},
     "output_type": "execute_result"
    }
   ],
   "source": [
    "dataset = \"aifb\"\n",
    "rrgcn_res_ppv = cut_evaluation_results_df[\n",
    "    (cut_evaluation_results_df.dataset == dataset)\n",
    "    & (cut_evaluation_results_df.ppv == True)\n",
    "]\n",
    "rrgcn_ppv_acc = rrgcn_res_ppv[\"acc\"].values * 100\n",
    "rgcn_accuracy = np.array(accuracies_rgcn[dataset])\n",
    "mannwhitneyu(rrgcn_ppv_acc, rgcn_accuracy)\n"
   ]
  }
 ],
 "metadata": {
  "interpreter": {
   "hash": "fe5f783139686e7cf892f4efec88ab35ceecb54fc5494a2842d212293bc1681f"
  },
  "kernelspec": {
   "display_name": "Python 3.9.0 (conda)",
   "language": "python",
   "name": "python3"
  },
  "language_info": {
   "codemirror_mode": {
    "name": "ipython",
    "version": 3
   },
   "file_extension": ".py",
   "mimetype": "text/x-python",
   "name": "python",
   "nbconvert_exporter": "python",
   "pygments_lexer": "ipython3",
   "version": "3.9.0"
  },
  "orig_nbformat": 4
 },
 "nbformat": 4,
 "nbformat_minor": 2
}
